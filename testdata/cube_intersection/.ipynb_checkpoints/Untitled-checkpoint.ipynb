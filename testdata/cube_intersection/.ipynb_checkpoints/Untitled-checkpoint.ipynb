{
 "cells": [
  {
   "cell_type": "code",
   "execution_count": 1,
   "id": "48e7601e-5213-45ea-80c3-65dd82a80cf5",
   "metadata": {},
   "outputs": [],
   "source": [
    "import numpy as np\n",
    "import openvds"
   ]
  },
  {
   "cell_type": "code",
   "execution_count": 2,
   "id": "c25c8d3b-8f77-448d-ad3f-c264a2bc796c",
   "metadata": {},
   "outputs": [],
   "source": [
    "filename = \"../10_samples/10_samples_default.vds\""
   ]
  },
  {
   "cell_type": "code",
   "execution_count": 3,
   "id": "b78fa507-9d83-4e3d-a59a-10c1d47a17e5",
   "metadata": {},
   "outputs": [],
   "source": [
    "vds = openvds.open(filename, \"\")\n",
    "layout = openvds.getLayout(vds)\n",
    "grid_definition = layout.getVDSIJKGridDefinitionFromMetadata()"
   ]
  },
  {
   "cell_type": "code",
   "execution_count": 29,
   "id": "9a40ceaf-f980-4237-9391-d7eda1a99c99",
   "metadata": {},
   "outputs": [],
   "source": [
    "axis = {}\n",
    "for i in range(layout.getDimensionality()):\n",
    "    ax = {}\n",
    "    ax[\"name\"] = layout.getDimensionName(i)\n",
    "    ax[\"nsamples\"] = layout.getDimensionNumSamples(i)\n",
    "    ax[\"min\"] = layout.getDimensionMin(i)\n",
    "    ax[\"max\"] = layout.getDimensionMax(i)\n",
    "    ax[\"stepsize\"] = (ax[\"max\"]-ax[\"min\"])/ (ax[\"nsamples\"]-1)\n",
    "    axis[ax[\"name\"]] = ax"
   ]
  },
  {
   "cell_type": "code",
   "execution_count": 30,
   "id": "e5d51a87-ada2-4a36-874b-8c46327a8f74",
   "metadata": {},
   "outputs": [
    {
     "data": {
      "text/plain": [
       "{'Sample': {'name': 'Sample',\n",
       "  'nsamples': 10,\n",
       "  'min': 4.0,\n",
       "  'max': 40.0,\n",
       "  'stepsize': 4.0},\n",
       " 'Crossline': {'name': 'Crossline',\n",
       "  'nsamples': 2,\n",
       "  'min': 10.0,\n",
       "  'max': 11.0,\n",
       "  'stepsize': 1.0},\n",
       " 'Inline': {'name': 'Inline',\n",
       "  'nsamples': 3,\n",
       "  'min': 1.0,\n",
       "  'max': 5.0,\n",
       "  'stepsize': 2.0}}"
      ]
     },
     "execution_count": 30,
     "metadata": {},
     "output_type": "execute_result"
    }
   ],
   "source": [
    "axis"
   ]
  },
  {
   "cell_type": "code",
   "execution_count": 5,
   "id": "6cabbe15-b098-4a62-904d-714f15253862",
   "metadata": {},
   "outputs": [],
   "source": [
    "index_origin = np.array([0,0])"
   ]
  },
  {
   "cell_type": "code",
   "execution_count": 31,
   "id": "a1f82e11-dc6e-4d4a-9102-7d55ea71a614",
   "metadata": {},
   "outputs": [],
   "source": [
    "index_origin_as_CDP = np.array(grid_definition.origin)"
   ]
  },
  {
   "cell_type": "code",
   "execution_count": 37,
   "id": "e5794bed-1f35-4a07-9ece-698c6143307e",
   "metadata": {},
   "outputs": [],
   "source": [
    "annotated_to_cdp_inline_step = np.array(grid_definition.iUnitStep) / axis[\"Inline\"][\"stepsize\"]\n",
    "annotated_to_cdp_xline_step = np.array(grid_definition.jUnitStep) / axis[\"Crossline\"][\"stepsize\"]"
   ]
  },
  {
   "cell_type": "code",
   "execution_count": 39,
   "id": "16cd550f-33e0-40d6-b779-4a4984d7f71c",
   "metadata": {},
   "outputs": [],
   "source": [
    "annotated_origin = index_origin_as_CDP - (axis[\"Inline\"][\"min\"] * annotated_to_cdp_inline_step + \n",
    "                                          axis[\"Crossline\"][\"min\"] * annotated_to_cdp_xline_step)"
   ]
  },
  {
   "cell_type": "code",
   "execution_count": 36,
   "id": "27b979cc-e218-49e9-ad5b-1a646d3e21a2",
   "metadata": {},
   "outputs": [
    {
     "data": {
      "text/plain": [
       "array([3., 2., 0.])"
      ]
     },
     "execution_count": 36,
     "metadata": {},
     "output_type": "execute_result"
    }
   ],
   "source": [
    "annotated_to_cdp_inline_step"
   ]
  },
  {
   "cell_type": "code",
   "execution_count": 38,
   "id": "9aa78e3c-91ee-481c-a627-338194aaa1d0",
   "metadata": {},
   "outputs": [
    {
     "data": {
      "text/plain": [
       "array([-2.,  3.,  0.])"
      ]
     },
     "execution_count": 38,
     "metadata": {},
     "output_type": "execute_result"
    }
   ],
   "source": [
    "annotated_to_cdp_xline_step"
   ]
  },
  {
   "cell_type": "code",
   "execution_count": null,
   "id": "f6957305-0dde-4976-a8c3-9b6281e406ba",
   "metadata": {},
   "outputs": [],
   "source": [
    "layout.getDimensionName(0)"
   ]
  },
  {
   "cell_type": "code",
   "execution_count": null,
   "id": "8fdce4a3-1775-4eca-baab-e6f30b6ddd74",
   "metadata": {},
   "outputs": [],
   "source": [
    "axis = {}\n",
    "for i in range(layout.getDimensionality()):\n",
    "    ax = {}\n",
    "    ax[\"name\"] = layout.getDimensionName(i)\n",
    "    ax[\"nsamples\"] = layout.getDimensionNumSamples(i)\n",
    "    ax[\"min\"] = layout.getDimensionMin(i)\n",
    "    ax[\"max\"] = layout.getDimensionMax(i)\n",
    "    axis[ax[\"name\"]] = ax"
   ]
  },
  {
   "cell_type": "code",
   "execution_count": null,
   "id": "de2b2e20-503a-466b-95e8-da20dbf3f735",
   "metadata": {},
   "outputs": [],
   "source": [
    "axis"
   ]
  },
  {
   "cell_type": "code",
   "execution_count": 13,
   "id": "6c932644-0ed8-4357-ad60-b6dfa9e8dd25",
   "metadata": {},
   "outputs": [
    {
     "data": {
      "text/plain": [
       "(6.0, 4.0, 0.0)"
      ]
     },
     "execution_count": 13,
     "metadata": {},
     "output_type": "execute_result"
    }
   ],
   "source": [
    "grid_definition.iUnitStep"
   ]
  },
  {
   "cell_type": "code",
   "execution_count": null,
   "id": "39aa9556-a21f-4710-b339-5b3d08d98193",
   "metadata": {},
   "outputs": [],
   "source": []
  },
  {
   "cell_type": "code",
   "execution_count": 14,
   "id": "956e8ab1-7514-47f2-8b14-8c4d97474285",
   "metadata": {},
   "outputs": [
    {
     "name": "stdout",
     "output_type": "stream",
     "text": [
      "ChannelCount: 3\n",
      "  Channel Name: Amplitude\n",
      "    Value range: -14.5 - 25.5\n",
      "  Channel Name: Trace\n",
      "    Value range: 0.0 - 1.0\n",
      "  Channel Name: SEGYTraceHeader\n",
      "    Value range: 0.0 - 255.0\n",
      "Dimensionality: 3\n",
      "  Dimension name: Sample\n",
      "    Number of samples: 10\n",
      "    Coordinate min max 4.0 - 40.0\n",
      "  Dimension name: Crossline\n",
      "    Number of samples: 2\n",
      "    Coordinate min max 10.0 - 11.0\n",
      "  Dimension name: Inline\n",
      "    Number of samples: 3\n",
      "    Coordinate min max 1.0 - 5.0\n"
     ]
    }
   ],
   "source": [
    "print(\"ChannelCount: {}\".format(layout.getChannelCount()))\n",
    "for i in range(layout.getChannelCount()):\n",
    "    print(\"  Channel Name: {}\".format(layout.getChannelName(i)))\n",
    "    print(\"    Value range: {} - {}\".format(layout.getChannelValueRangeMin(i), layout.getChannelValueRangeMax(i)))\n",
    "    \n",
    "print(\"Dimensionality: {}\".format(layout.getDimensionality()))\n",
    "for i in range(layout.getDimensionality()):\n",
    "    print(\"  Dimension name: {}\".format(layout.getDimensionName(i)))\n",
    "    print(\"    Number of samples: {}\".format(layout.getDimensionNumSamples(i)))\n",
    "    print(\"    Coordinate min max {} - {}\".format(layout.getDimensionMin(i), layout.getDimensionMax(i)))"
   ]
  },
  {
   "cell_type": "code",
   "execution_count": 15,
   "id": "ac1cb55b-3006-4a8d-8d8b-bae846c9a3f9",
   "metadata": {},
   "outputs": [],
   "source": [
    "metadata = layout.getMetadata"
   ]
  },
  {
   "cell_type": "code",
   "execution_count": 16,
   "id": "08bfaee4-0e3d-4a99-8dd3-f161391d3d0c",
   "metadata": {},
   "outputs": [
    {
     "data": {
      "text/plain": [
       "<bound method PyCapsule.getMetadata of <openvds.core.VolumeDataLayout object at 0x1050a4cf0>>"
      ]
     },
     "execution_count": 16,
     "metadata": {},
     "output_type": "execute_result"
    }
   ],
   "source": [
    "metadata"
   ]
  },
  {
   "cell_type": "code",
   "execution_count": 17,
   "id": "5a4d20b6-9feb-4726-a006-b8346ae178c0",
   "metadata": {},
   "outputs": [],
   "source": [
    "res = layout.getVDSIJKGridDefinitionFromMetadata()"
   ]
  },
  {
   "cell_type": "code",
   "execution_count": 18,
   "id": "d4c4a25c-8c0c-4890-bc20-597d0d861d46",
   "metadata": {},
   "outputs": [
    {
     "data": {
      "text/plain": [
       "(2, 1, 0)"
      ]
     },
     "execution_count": 18,
     "metadata": {},
     "output_type": "execute_result"
    }
   ],
   "source": [
    "res.dimensionMap"
   ]
  },
  {
   "cell_type": "code",
   "execution_count": 19,
   "id": "606e1eb2-59c5-48ae-96ca-6aeaca2ecd75",
   "metadata": {},
   "outputs": [
    {
     "data": {
      "text/plain": [
       "(6.0, 4.0, 0.0)"
      ]
     },
     "execution_count": 19,
     "metadata": {},
     "output_type": "execute_result"
    }
   ],
   "source": [
    "res.iUnitStep"
   ]
  },
  {
   "cell_type": "code",
   "execution_count": 20,
   "id": "9b8afeb2-061d-48fe-8332-1895543ecba4",
   "metadata": {},
   "outputs": [
    {
     "data": {
      "text/plain": [
       "(2.0, 0.0, -4.0)"
      ]
     },
     "execution_count": 20,
     "metadata": {},
     "output_type": "execute_result"
    }
   ],
   "source": [
    "res.origin"
   ]
  },
  {
   "cell_type": "code",
   "execution_count": 21,
   "id": "95092d03-8390-42ad-8b42-d918bd10360f",
   "metadata": {},
   "outputs": [
    {
     "data": {
      "text/plain": [
       "(6.0, 4.0, 0.0)"
      ]
     },
     "execution_count": 21,
     "metadata": {},
     "output_type": "execute_result"
    }
   ],
   "source": [
    "res.iUnitStep"
   ]
  },
  {
   "cell_type": "code",
   "execution_count": 22,
   "id": "909443dd-cb68-47a7-84a5-361833ea8b28",
   "metadata": {},
   "outputs": [
    {
     "data": {
      "text/plain": [
       "(-2.0, 3.0, 0.0)"
      ]
     },
     "execution_count": 22,
     "metadata": {},
     "output_type": "execute_result"
    }
   ],
   "source": [
    "res.jUnitStep"
   ]
  },
  {
   "cell_type": "code",
   "execution_count": 23,
   "id": "f4bbda9e-76fa-4995-bfd1-4eebbc612f47",
   "metadata": {},
   "outputs": [
    {
     "data": {
      "text/plain": [
       "(0.0, 0.0, -4.0)"
      ]
     },
     "execution_count": 23,
     "metadata": {},
     "output_type": "execute_result"
    }
   ],
   "source": [
    "res.kUnitStep"
   ]
  },
  {
   "cell_type": "code",
   "execution_count": 24,
   "id": "c429ff7f-6786-4a98-b868-882af8949bb5",
   "metadata": {},
   "outputs": [],
   "source": [
    "off = layout.getChannelIntegerOffset(2)"
   ]
  },
  {
   "cell_type": "code",
   "execution_count": 25,
   "id": "ee6406a5-1260-48d9-b9a7-a296d5e8ddf7",
   "metadata": {},
   "outputs": [
    {
     "data": {
      "text/plain": [
       "0.0"
      ]
     },
     "execution_count": 25,
     "metadata": {},
     "output_type": "execute_result"
    }
   ],
   "source": [
    "off"
   ]
  },
  {
   "cell_type": "code",
   "execution_count": 26,
   "id": "d6648fe1-d26b-425c-aafe-a99756380e24",
   "metadata": {},
   "outputs": [
    {
     "ename": "TypeError",
     "evalue": "getMetadata(): incompatible function arguments. The following argument types are supported:\n    1. (self: openvds.core.MetadataReadAccess, key: openvds.core.MetadataKey) -> PyMetadataVariant\n    2. (self: openvds.core.MetadataReadAccess, category: str, name: str, type: openvds.core.MetadataType) -> PyMetadataVariant\n\nInvoked with: <openvds.core.VolumeDataLayout object at 0x1050a4cf0>",
     "output_type": "error",
     "traceback": [
      "\u001b[0;31m---------------------------------------------------------------------------\u001b[0m",
      "\u001b[0;31mTypeError\u001b[0m                                 Traceback (most recent call last)",
      "Cell \u001b[0;32mIn[26], line 1\u001b[0m\n\u001b[0;32m----> 1\u001b[0m meta \u001b[38;5;241m=\u001b[39m \u001b[43mlayout\u001b[49m\u001b[38;5;241;43m.\u001b[39;49m\u001b[43mgetMetadata\u001b[49m\u001b[43m(\u001b[49m\u001b[43m)\u001b[49m\n",
      "\u001b[0;31mTypeError\u001b[0m: getMetadata(): incompatible function arguments. The following argument types are supported:\n    1. (self: openvds.core.MetadataReadAccess, key: openvds.core.MetadataKey) -> PyMetadataVariant\n    2. (self: openvds.core.MetadataReadAccess, category: str, name: str, type: openvds.core.MetadataType) -> PyMetadataVariant\n\nInvoked with: <openvds.core.VolumeDataLayout object at 0x1050a4cf0>"
     ]
    }
   ],
   "source": [
    "meta = layout.getMetadata()"
   ]
  },
  {
   "cell_type": "code",
   "execution_count": null,
   "id": "eea2289a-3cb8-4fc8-b709-7d14b7ed44f2",
   "metadata": {},
   "outputs": [],
   "source": [
    "k = layout.metadataKeys"
   ]
  },
  {
   "cell_type": "code",
   "execution_count": null,
   "id": "14c3d508-d4f5-41a4-85b8-3ac274f0544c",
   "metadata": {},
   "outputs": [],
   "source": [
    "key_list = []\n",
    "for v in k:\n",
    "    key_list.append(v)"
   ]
  },
  {
   "cell_type": "code",
   "execution_count": null,
   "id": "1787945a-7849-4cce-a641-27d5ba3052e3",
   "metadata": {},
   "outputs": [],
   "source": [
    "key_list[0]"
   ]
  },
  {
   "cell_type": "code",
   "execution_count": null,
   "id": "05542e82-3f52-4b27-a1ca-3722ba905434",
   "metadata": {},
   "outputs": [],
   "source": [
    "type(key_list[0])"
   ]
  },
  {
   "cell_type": "code",
   "execution_count": null,
   "id": "95f0546f-3dc1-4e99-a946-1cc90278210d",
   "metadata": {},
   "outputs": [],
   "source": [
    "mKey = openvds.core.MetadataKey(category='SurveyCoordinateSystem', name='CRSWkt', type=openvds.core.MetadataType.String)"
   ]
  },
  {
   "cell_type": "code",
   "execution_count": null,
   "id": "f66c4029-c1e9-47cb-8a8e-f7264d04e642",
   "metadata": {},
   "outputs": [],
   "source": [
    "mKey = openvds.core.MetadataKey(category='SurveyCoordinateSystem', name='Unit', type=openvds.core.MetadataType.String)\n",
    "meta = layout.getMetadata(mKey)\n",
    "print(meta)"
   ]
  },
  {
   "cell_type": "code",
   "execution_count": null,
   "id": "d0833036-1721-4f4e-82fc-f4adad096c64",
   "metadata": {},
   "outputs": [],
   "source": [
    "mKey = openvds.core.MetadataKey(category='SurveyCoordinateSystem', name='Origin', type=openvds.core.MetadataType.DoubleVector2)\n",
    "meta = layout.getMetadata(mKey)\n",
    "print(meta)"
   ]
  },
  {
   "cell_type": "code",
   "execution_count": null,
   "id": "8e6a4396-eeb6-4942-b30e-458efccf201a",
   "metadata": {},
   "outputs": [],
   "source": [
    "meta = layout.getMetadata(key_list[2])\n",
    "print(meta)"
   ]
  },
  {
   "cell_type": "code",
   "execution_count": null,
   "id": "8088fc81-826e-47f1-9224-e345b981c3d7",
   "metadata": {},
   "outputs": [],
   "source": [
    "for v in key_list:\n",
    "    print(v)\n",
    "    meta = layout.getMetadata(v)\n",
    "    print(meta)\n",
    "    print()"
   ]
  },
  {
   "cell_type": "code",
   "execution_count": null,
   "id": "6d18183e-3ae2-46b8-8518-e286f8e87cd5",
   "metadata": {},
   "outputs": [],
   "source": [
    "layout.getMetadata('CrosslineSpacing')"
   ]
  },
  {
   "cell_type": "code",
   "execution_count": null,
   "id": "43ef915b-6087-4c9f-9182-292e9190d55e",
   "metadata": {},
   "outputs": [],
   "source": [
    "dir(layout)"
   ]
  },
  {
   "cell_type": "code",
   "execution_count": null,
   "id": "26b7939d-c867-4ed7-9a26-5ffa872cd1cd",
   "metadata": {},
   "outputs": [],
   "source": []
  }
 ],
 "metadata": {
  "kernelspec": {
   "display_name": "Python 3 (ipykernel)",
   "language": "python",
   "name": "python3"
  },
  "language_info": {
   "codemirror_mode": {
    "name": "ipython",
    "version": 3
   },
   "file_extension": ".py",
   "mimetype": "text/x-python",
   "name": "python",
   "nbconvert_exporter": "python",
   "pygments_lexer": "ipython3",
   "version": "3.11.7"
  }
 },
 "nbformat": 4,
 "nbformat_minor": 5
}
