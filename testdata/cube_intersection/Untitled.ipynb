{
 "cells": [
  {
   "cell_type": "code",
   "execution_count": 1,
   "id": "48e7601e-5213-45ea-80c3-65dd82a80cf5",
   "metadata": {},
   "outputs": [],
   "source": [
    "import numpy as np\n",
    "import openvds"
   ]
  },
  {
   "cell_type": "code",
   "execution_count": 2,
   "id": "c25c8d3b-8f77-448d-ad3f-c264a2bc796c",
   "metadata": {},
   "outputs": [],
   "source": [
    "filename = \"../10_samples/10_samples_default.vds\""
   ]
  },
  {
   "cell_type": "code",
   "execution_count": 3,
   "id": "b78fa507-9d83-4e3d-a59a-10c1d47a17e5",
   "metadata": {},
   "outputs": [],
   "source": [
    "vds = openvds.open(filename, \"\")\n",
    "layout = openvds.getLayout(vds)\n",
    "grid_definition = layout.getVDSIJKGridDefinitionFromMetadata()"
   ]
  },
  {
   "cell_type": "code",
   "execution_count": 29,
   "id": "9a40ceaf-f980-4237-9391-d7eda1a99c99",
   "metadata": {},
   "outputs": [],
   "source": [
    "axis = {}\n",
    "for i in range(layout.getDimensionality()):\n",
    "    ax = {}\n",
    "    ax[\"name\"] = layout.getDimensionName(i)\n",
    "    ax[\"nsamples\"] = layout.getDimensionNumSamples(i)\n",
    "    ax[\"min\"] = layout.getDimensionMin(i)\n",
    "    ax[\"max\"] = layout.getDimensionMax(i)\n",
    "    ax[\"stepsize\"] = (ax[\"max\"]-ax[\"min\"])/ (ax[\"nsamples\"]-1)\n",
    "    axis[ax[\"name\"]] = ax"
   ]
  },
  {
   "cell_type": "code",
   "execution_count": 30,
   "id": "e5d51a87-ada2-4a36-874b-8c46327a8f74",
   "metadata": {},
   "outputs": [
    {
     "data": {
      "text/plain": [
       "{'Sample': {'name': 'Sample',\n",
       "  'nsamples': 10,\n",
       "  'min': 4.0,\n",
       "  'max': 40.0,\n",
       "  'stepsize': 4.0},\n",
       " 'Crossline': {'name': 'Crossline',\n",
       "  'nsamples': 2,\n",
       "  'min': 10.0,\n",
       "  'max': 11.0,\n",
       "  'stepsize': 1.0},\n",
       " 'Inline': {'name': 'Inline',\n",
       "  'nsamples': 3,\n",
       "  'min': 1.0,\n",
       "  'max': 5.0,\n",
       "  'stepsize': 2.0}}"
      ]
     },
     "execution_count": 30,
     "metadata": {},
     "output_type": "execute_result"
    }
   ],
   "source": [
    "axis"
   ]
  },
  {
   "cell_type": "code",
   "execution_count": 5,
   "id": "6cabbe15-b098-4a62-904d-714f15253862",
   "metadata": {},
   "outputs": [],
   "source": [
    "index_origin = np.array([0,0])"
   ]
  },
  {
   "cell_type": "code",
   "execution_count": 31,
   "id": "a1f82e11-dc6e-4d4a-9102-7d55ea71a614",
   "metadata": {},
   "outputs": [],
   "source": [
    "index_origin_as_CDP = np.array(grid_definition.origin)"
   ]
  },
  {
   "cell_type": "code",
   "execution_count": 37,
   "id": "e5794bed-1f35-4a07-9ece-698c6143307e",
   "metadata": {},
   "outputs": [],
   "source": [
    "annotated_to_cdp_inline_step = np.array(grid_definition.iUnitStep) / axis[\"Inline\"][\"stepsize\"]\n",
    "annotated_to_cdp_xline_step = np.array(grid_definition.jUnitStep) / axis[\"Crossline\"][\"stepsize\"]"
   ]
  },
  {
   "cell_type": "code",
   "execution_count": 54,
   "id": "16cd550f-33e0-40d6-b779-4a4984d7f71c",
   "metadata": {},
   "outputs": [],
   "source": [
    "annotated_origin = index_origin_as_CDP - (axis[\"Inline\"][\"min\"] * annotated_to_cdp_inline_step + \n",
    "                                          axis[\"Crossline\"][\"min\"] * annotated_to_cdp_xline_step)"
   ]
  },
  {
   "cell_type": "code",
   "execution_count": 57,
   "id": "769644cd-291e-4994-b2ff-14b6c4d16e78",
   "metadata": {},
   "outputs": [],
   "source": [
    "index_origin_in_cdp = annotated_origin + \\\n",
    "        (axis[\"Inline\"][\"min\"] * annotated_to_cdp_inline_step +\n",
    "         axis[\"Crossline\"][\"min\"] * annotated_to_cdp_xline_step)"
   ]
  },
  {
   "cell_type": "code",
   "execution_count": 58,
   "id": "9b0cfe08-38e1-4980-8c74-89c3a07b0d68",
   "metadata": {},
   "outputs": [
    {
     "data": {
      "text/plain": [
       "array([ 2.,  0., -4.])"
      ]
     },
     "execution_count": 58,
     "metadata": {},
     "output_type": "execute_result"
    }
   ],
   "source": [
    "index_origin_in_cdp"
   ]
  },
  {
   "cell_type": "code",
   "execution_count": null,
   "id": "d9028b0b-6d96-4bb9-990e-c68c74fcbf4f",
   "metadata": {},
   "outputs": [],
   "source": []
  },
  {
   "cell_type": "code",
   "execution_count": null,
   "id": "8aef5df0-9671-4c4f-b132-a8d66612ec6a",
   "metadata": {},
   "outputs": [],
   "source": []
  },
  {
   "cell_type": "code",
   "execution_count": 55,
   "id": "7e70ea98-a658-4401-99bb-040b2a4d103e",
   "metadata": {},
   "outputs": [
    {
     "data": {
      "text/plain": [
       "array([ 19., -32.,  -4.])"
      ]
     },
     "execution_count": 55,
     "metadata": {},
     "output_type": "execute_result"
    }
   ],
   "source": [
    "annotated_origin"
   ]
  },
  {
   "cell_type": "code",
   "execution_count": 43,
   "id": "284e3faf-fa72-449d-9f99-a9a66c41af99",
   "metadata": {},
   "outputs": [
    {
     "data": {
      "text/plain": [
       "array([3., 2., 0.])"
      ]
     },
     "execution_count": 43,
     "metadata": {},
     "output_type": "execute_result"
    }
   ],
   "source": [
    "axis[\"Inline\"][\"min\"]* annotated_to_cdp_inline_step"
   ]
  },
  {
   "cell_type": "code",
   "execution_count": 46,
   "id": "616a11bb-7c22-4c2f-acba-bab0ed45fdd2",
   "metadata": {},
   "outputs": [
    {
     "data": {
      "text/plain": [
       "array([-20.,  30.,   0.])"
      ]
     },
     "execution_count": 46,
     "metadata": {},
     "output_type": "execute_result"
    }
   ],
   "source": [
    "axis[\"Crossline\"][\"min\"] * annotated_to_cdp_xline_step"
   ]
  },
  {
   "cell_type": "code",
   "execution_count": 41,
   "id": "72344980-09a4-4b94-a848-573db9c3571c",
   "metadata": {},
   "outputs": [
    {
     "data": {
      "text/plain": [
       "array([ 19., -32.,  -4.])"
      ]
     },
     "execution_count": 41,
     "metadata": {},
     "output_type": "execute_result"
    }
   ],
   "source": [
    "annotated_origin"
   ]
  },
  {
   "cell_type": "code",
   "execution_count": null,
   "id": "f7bde537-37a5-42b5-956c-84667935efb3",
   "metadata": {},
   "outputs": [],
   "source": []
  },
  {
   "cell_type": "code",
   "execution_count": 47,
   "id": "e9e7fdef-fae2-4f3b-b0f7-f3d2edd6b4fa",
   "metadata": {},
   "outputs": [],
   "source": [
    "origin = np.array([-3, -12])"
   ]
  },
  {
   "cell_type": "code",
   "execution_count": 53,
   "id": "61e1c6fe-5940-4915-bdf1-f684d5d2eb5f",
   "metadata": {},
   "outputs": [
    {
     "data": {
      "text/plain": [
       "array([27.,  8.])"
      ]
     },
     "execution_count": 53,
     "metadata": {},
     "output_type": "execute_result"
    }
   ],
   "source": [
    "origin + 10*(annotated_to_cdp_inline_step[0:2])"
   ]
  },
  {
   "cell_type": "code",
   "execution_count": null,
   "id": "54e66132-ac89-4446-97da-f790779b463d",
   "metadata": {},
   "outputs": [],
   "source": []
  },
  {
   "cell_type": "code",
   "execution_count": null,
   "id": "e937b701-f14b-4ed1-bc4b-c9b7614085f6",
   "metadata": {},
   "outputs": [],
   "source": []
  },
  {
   "cell_type": "code",
   "execution_count": null,
   "id": "ad0e5549-2835-46ea-b3fe-df498f4893b4",
   "metadata": {},
   "outputs": [],
   "source": []
  },
  {
   "cell_type": "code",
   "execution_count": null,
   "id": "a2afd3e1-ab1a-4ea2-bc9d-7e8f7f4882b0",
   "metadata": {},
   "outputs": [],
   "source": []
  },
  {
   "cell_type": "code",
   "execution_count": 36,
   "id": "27b979cc-e218-49e9-ad5b-1a646d3e21a2",
   "metadata": {},
   "outputs": [
    {
     "data": {
      "text/plain": [
       "array([3., 2., 0.])"
      ]
     },
     "execution_count": 36,
     "metadata": {},
     "output_type": "execute_result"
    }
   ],
   "source": [
    "annotated_to_cdp_inline_step"
   ]
  },
  {
   "cell_type": "code",
   "execution_count": 38,
   "id": "9aa78e3c-91ee-481c-a627-338194aaa1d0",
   "metadata": {},
   "outputs": [
    {
     "data": {
      "text/plain": [
       "array([-2.,  3.,  0.])"
      ]
     },
     "execution_count": 38,
     "metadata": {},
     "output_type": "execute_result"
    }
   ],
   "source": [
    "annotated_to_cdp_xline_step"
   ]
  },
  {
   "cell_type": "code",
   "execution_count": null,
   "id": "f6957305-0dde-4976-a8c3-9b6281e406ba",
   "metadata": {},
   "outputs": [],
   "source": [
    "layout.getDimensionName(0)"
   ]
  },
  {
   "cell_type": "code",
   "execution_count": null,
   "id": "8fdce4a3-1775-4eca-baab-e6f30b6ddd74",
   "metadata": {},
   "outputs": [],
   "source": [
    "axis = {}\n",
    "for i in range(layout.getDimensionality()):\n",
    "    ax = {}\n",
    "    ax[\"name\"] = layout.getDimensionName(i)\n",
    "    ax[\"nsamples\"] = layout.getDimensionNumSamples(i)\n",
    "    ax[\"min\"] = layout.getDimensionMin(i)\n",
    "    ax[\"max\"] = layout.getDimensionMax(i)\n",
    "    axis[ax[\"name\"]] = ax"
   ]
  },
  {
   "cell_type": "code",
   "execution_count": null,
   "id": "de2b2e20-503a-466b-95e8-da20dbf3f735",
   "metadata": {},
   "outputs": [],
   "source": [
    "axis"
   ]
  },
  {
   "cell_type": "code",
   "execution_count": 13,
   "id": "6c932644-0ed8-4357-ad60-b6dfa9e8dd25",
   "metadata": {},
   "outputs": [
    {
     "data": {
      "text/plain": [
       "(6.0, 4.0, 0.0)"
      ]
     },
     "execution_count": 13,
     "metadata": {},
     "output_type": "execute_result"
    }
   ],
   "source": [
    "grid_definition.iUnitStep"
   ]
  },
  {
   "cell_type": "code",
   "execution_count": null,
   "id": "39aa9556-a21f-4710-b339-5b3d08d98193",
   "metadata": {},
   "outputs": [],
   "source": []
  },
  {
   "cell_type": "code",
   "execution_count": 14,
   "id": "956e8ab1-7514-47f2-8b14-8c4d97474285",
   "metadata": {},
   "outputs": [
    {
     "name": "stdout",
     "output_type": "stream",
     "text": [
      "ChannelCount: 3\n",
      "  Channel Name: Amplitude\n",
      "    Value range: -14.5 - 25.5\n",
      "  Channel Name: Trace\n",
      "    Value range: 0.0 - 1.0\n",
      "  Channel Name: SEGYTraceHeader\n",
      "    Value range: 0.0 - 255.0\n",
      "Dimensionality: 3\n",
      "  Dimension name: Sample\n",
      "    Number of samples: 10\n",
      "    Coordinate min max 4.0 - 40.0\n",
      "  Dimension name: Crossline\n",
      "    Number of samples: 2\n",
      "    Coordinate min max 10.0 - 11.0\n",
      "  Dimension name: Inline\n",
      "    Number of samples: 3\n",
      "    Coordinate min max 1.0 - 5.0\n"
     ]
    }
   ],
   "source": [
    "print(\"ChannelCount: {}\".format(layout.getChannelCount()))\n",
    "for i in range(layout.getChannelCount()):\n",
    "    print(\"  Channel Name: {}\".format(layout.getChannelName(i)))\n",
    "    print(\"    Value range: {} - {}\".format(layout.getChannelValueRangeMin(i), layout.getChannelValueRangeMax(i)))\n",
    "    \n",
    "print(\"Dimensionality: {}\".format(layout.getDimensionality()))\n",
    "for i in range(layout.getDimensionality()):\n",
    "    print(\"  Dimension name: {}\".format(layout.getDimensionName(i)))\n",
    "    print(\"    Number of samples: {}\".format(layout.getDimensionNumSamples(i)))\n",
    "    print(\"    Coordinate min max {} - {}\".format(layout.getDimensionMin(i), layout.getDimensionMax(i)))"
   ]
  },
  {
   "cell_type": "code",
   "execution_count": 15,
   "id": "ac1cb55b-3006-4a8d-8d8b-bae846c9a3f9",
   "metadata": {},
   "outputs": [],
   "source": [
    "metadata = layout.getMetadata"
   ]
  },
  {
   "cell_type": "code",
   "execution_count": 16,
   "id": "08bfaee4-0e3d-4a99-8dd3-f161391d3d0c",
   "metadata": {},
   "outputs": [
    {
     "data": {
      "text/plain": [
       "<bound method PyCapsule.getMetadata of <openvds.core.VolumeDataLayout object at 0x1050a4cf0>>"
      ]
     },
     "execution_count": 16,
     "metadata": {},
     "output_type": "execute_result"
    }
   ],
   "source": [
    "metadata"
   ]
  },
  {
   "cell_type": "code",
   "execution_count": 17,
   "id": "5a4d20b6-9feb-4726-a006-b8346ae178c0",
   "metadata": {},
   "outputs": [],
   "source": [
    "res = layout.getVDSIJKGridDefinitionFromMetadata()"
   ]
  },
  {
   "cell_type": "code",
   "execution_count": 18,
   "id": "d4c4a25c-8c0c-4890-bc20-597d0d861d46",
   "metadata": {},
   "outputs": [
    {
     "data": {
      "text/plain": [
       "(2, 1, 0)"
      ]
     },
     "execution_count": 18,
     "metadata": {},
     "output_type": "execute_result"
    }
   ],
   "source": [
    "res.dimensionMap"
   ]
  },
  {
   "cell_type": "code",
   "execution_count": 19,
   "id": "606e1eb2-59c5-48ae-96ca-6aeaca2ecd75",
   "metadata": {},
   "outputs": [
    {
     "data": {
      "text/plain": [
       "(6.0, 4.0, 0.0)"
      ]
     },
     "execution_count": 19,
     "metadata": {},
     "output_type": "execute_result"
    }
   ],
   "source": [
    "res.iUnitStep"
   ]
  },
  {
   "cell_type": "code",
   "execution_count": 20,
   "id": "9b8afeb2-061d-48fe-8332-1895543ecba4",
   "metadata": {},
   "outputs": [
    {
     "data": {
      "text/plain": [
       "(2.0, 0.0, -4.0)"
      ]
     },
     "execution_count": 20,
     "metadata": {},
     "output_type": "execute_result"
    }
   ],
   "source": [
    "res.origin"
   ]
  },
  {
   "cell_type": "code",
   "execution_count": 21,
   "id": "95092d03-8390-42ad-8b42-d918bd10360f",
   "metadata": {},
   "outputs": [
    {
     "data": {
      "text/plain": [
       "(6.0, 4.0, 0.0)"
      ]
     },
     "execution_count": 21,
     "metadata": {},
     "output_type": "execute_result"
    }
   ],
   "source": [
    "res.iUnitStep"
   ]
  },
  {
   "cell_type": "code",
   "execution_count": 22,
   "id": "909443dd-cb68-47a7-84a5-361833ea8b28",
   "metadata": {},
   "outputs": [
    {
     "data": {
      "text/plain": [
       "(-2.0, 3.0, 0.0)"
      ]
     },
     "execution_count": 22,
     "metadata": {},
     "output_type": "execute_result"
    }
   ],
   "source": [
    "res.jUnitStep"
   ]
  },
  {
   "cell_type": "code",
   "execution_count": 64,
   "id": "f4bbda9e-76fa-4995-bfd1-4eebbc612f47",
   "metadata": {},
   "outputs": [
    {
     "data": {
      "text/plain": [
       "(0.0, 0.0, -4.0)"
      ]
     },
     "execution_count": 64,
     "metadata": {},
     "output_type": "execute_result"
    }
   ],
   "source": [
    "res.kUnitStep"
   ]
  },
  {
   "cell_type": "code",
   "execution_count": 65,
   "id": "c429ff7f-6786-4a98-b868-882af8949bb5",
   "metadata": {},
   "outputs": [],
   "source": [
    "off = layout.getChannelIntegerOffset(2)"
   ]
  },
  {
   "cell_type": "code",
   "execution_count": 66,
   "id": "ee6406a5-1260-48d9-b9a7-a296d5e8ddf7",
   "metadata": {},
   "outputs": [
    {
     "data": {
      "text/plain": [
       "0.0"
      ]
     },
     "execution_count": 66,
     "metadata": {},
     "output_type": "execute_result"
    }
   ],
   "source": [
    "off"
   ]
  },
  {
   "cell_type": "code",
   "execution_count": 67,
   "id": "d6648fe1-d26b-425c-aafe-a99756380e24",
   "metadata": {},
   "outputs": [
    {
     "ename": "TypeError",
     "evalue": "getMetadata(): incompatible function arguments. The following argument types are supported:\n    1. (self: openvds.core.MetadataReadAccess, key: openvds.core.MetadataKey) -> PyMetadataVariant\n    2. (self: openvds.core.MetadataReadAccess, category: str, name: str, type: openvds.core.MetadataType) -> PyMetadataVariant\n\nInvoked with: <openvds.core.VolumeDataLayout object at 0x1050a4cf0>",
     "output_type": "error",
     "traceback": [
      "\u001b[0;31m---------------------------------------------------------------------------\u001b[0m",
      "\u001b[0;31mTypeError\u001b[0m                                 Traceback (most recent call last)",
      "Cell \u001b[0;32mIn[67], line 1\u001b[0m\n\u001b[0;32m----> 1\u001b[0m meta \u001b[38;5;241m=\u001b[39m \u001b[43mlayout\u001b[49m\u001b[38;5;241;43m.\u001b[39;49m\u001b[43mgetMetadata\u001b[49m\u001b[43m(\u001b[49m\u001b[43m)\u001b[49m\n",
      "\u001b[0;31mTypeError\u001b[0m: getMetadata(): incompatible function arguments. The following argument types are supported:\n    1. (self: openvds.core.MetadataReadAccess, key: openvds.core.MetadataKey) -> PyMetadataVariant\n    2. (self: openvds.core.MetadataReadAccess, category: str, name: str, type: openvds.core.MetadataType) -> PyMetadataVariant\n\nInvoked with: <openvds.core.VolumeDataLayout object at 0x1050a4cf0>"
     ]
    }
   ],
   "source": [
    "meta = layout.getMetadata()"
   ]
  },
  {
   "cell_type": "code",
   "execution_count": 68,
   "id": "eea2289a-3cb8-4fc8-b709-7d14b7ed44f2",
   "metadata": {},
   "outputs": [],
   "source": [
    "k = layout.metadataKeys"
   ]
  },
  {
   "cell_type": "code",
   "execution_count": 69,
   "id": "14c3d508-d4f5-41a4-85b8-3ac274f0544c",
   "metadata": {},
   "outputs": [],
   "source": [
    "key_list = []\n",
    "for v in k:\n",
    "    key_list.append(v)"
   ]
  },
  {
   "cell_type": "code",
   "execution_count": 70,
   "id": "1787945a-7849-4cce-a641-27d5ba3052e3",
   "metadata": {},
   "outputs": [
    {
     "data": {
      "text/plain": [
       "MetadataKey(category='SurveyCoordinateSystem', name='CRSWkt', type=MetadataType.String)"
      ]
     },
     "execution_count": 70,
     "metadata": {},
     "output_type": "execute_result"
    }
   ],
   "source": [
    "key_list[0]"
   ]
  },
  {
   "cell_type": "code",
   "execution_count": 71,
   "id": "05542e82-3f52-4b27-a1ca-3722ba905434",
   "metadata": {},
   "outputs": [
    {
     "data": {
      "text/plain": [
       "openvds.core.MetadataKey"
      ]
     },
     "execution_count": 71,
     "metadata": {},
     "output_type": "execute_result"
    }
   ],
   "source": [
    "type(key_list[0])"
   ]
  },
  {
   "cell_type": "code",
   "execution_count": 72,
   "id": "95f0546f-3dc1-4e99-a946-1cc90278210d",
   "metadata": {},
   "outputs": [],
   "source": [
    "mKey = openvds.core.MetadataKey(category='SurveyCoordinateSystem', name='CRSWkt', type=openvds.core.MetadataType.String)"
   ]
  },
  {
   "cell_type": "code",
   "execution_count": 73,
   "id": "f66c4029-c1e9-47cb-8a8e-f7264d04e642",
   "metadata": {},
   "outputs": [
    {
     "name": "stdout",
     "output_type": "stream",
     "text": [
      "m\n"
     ]
    }
   ],
   "source": [
    "mKey = openvds.core.MetadataKey(category='SurveyCoordinateSystem', name='Unit', type=openvds.core.MetadataType.String)\n",
    "meta = layout.getMetadata(mKey)\n",
    "print(meta)"
   ]
  },
  {
   "cell_type": "code",
   "execution_count": 74,
   "id": "d0833036-1721-4f4e-82fc-f4adad096c64",
   "metadata": {},
   "outputs": [
    {
     "name": "stdout",
     "output_type": "stream",
     "text": [
      "(19.0, -32.0)\n"
     ]
    }
   ],
   "source": [
    "mKey = openvds.core.MetadataKey(category='SurveyCoordinateSystem', name='Origin', type=openvds.core.MetadataType.DoubleVector2)\n",
    "meta = layout.getMetadata(mKey)\n",
    "print(meta)"
   ]
  },
  {
   "cell_type": "code",
   "execution_count": 75,
   "id": "8e6a4396-eeb6-4942-b30e-458efccf201a",
   "metadata": {},
   "outputs": [
    {
     "name": "stdout",
     "output_type": "stream",
     "text": [
      "(19.0, -32.0)\n"
     ]
    }
   ],
   "source": [
    "meta = layout.getMetadata(key_list[2])\n",
    "print(meta)"
   ]
  },
  {
   "cell_type": "code",
   "execution_count": 76,
   "id": "8088fc81-826e-47f1-9224-e345b981c3d7",
   "metadata": {},
   "outputs": [
    {
     "name": "stdout",
     "output_type": "stream",
     "text": [
      "MetadataKey(category='SurveyCoordinateSystem', name='CRSWkt', type=MetadataType.String)\n",
      "utmXX\n",
      "\n",
      "MetadataKey(category='SurveyCoordinateSystem', name='Unit', type=MetadataType.String)\n",
      "m\n",
      "\n",
      "MetadataKey(category='SurveyCoordinateSystem', name='Origin', type=MetadataType.DoubleVector2)\n",
      "(19.0, -32.0)\n",
      "\n",
      "MetadataKey(category='SurveyCoordinateSystem', name='InlineSpacing', type=MetadataType.DoubleVector2)\n",
      "(3.0, 2.0)\n",
      "\n",
      "MetadataKey(category='SurveyCoordinateSystem', name='CrosslineSpacing', type=MetadataType.DoubleVector2)\n",
      "(-2.0, 3.0)\n",
      "\n",
      "MetadataKey(category='SEGY', name='TextHeader', type=MetadataType.BLOB)\n",
      "bytearray(b'\\xc3@\\xf1@\\xc4\\xc1\\xe3\\xc5@\\xf2\\xf0\\xf2\\xf3`\\xf0\\xf5`\\xf1\\xf6@@@@@@@@@@@@@@@@@@@@@@@@@@@@@@@@@@@@@@@@@@@@@@@@@@@@@@@@@@@@@\\xc3@\\xf2@\\xc1\\xd5@\\xc9\\xd5\\xc3\\xd9\\xc5\\xc1\\xe2\\xc5@\\xc9\\xd5@\\xc1\\xd4\\xd7\\xd3\\xc9\\xe3\\xe4\\xc4\\xc5@\\xc5\\xd8\\xe4\\xc1\\xd3\\xe2@\\xc1\\xd5@\\xc9\\xd5\\xc3\\xd9\\xc5\\xc1\\xe2\\xc5@\\xc9\\xd5@\\xc1\\xc3\\xd6\\xe4\\xe2\\xe3\\xc9\\xc3@\\xc9\\xd4\\xd7\\xc5\\xc4\\xc1\\xd5\\xc3\\xc5@@@@@@@@@@@\\xc3@\\xf3@\\xe6\\x99\\x89\\xa3\\xa3\\x85\\x95@\\x82\\xa8@\\x93\\x89\\x82\\xa2\\x85\\x87\\xa8\\x89\\x96@M\\x97\\xa8\\xa3\\x88\\x96\\x95]@@@@@@@@@@@@@@@@@@@@@@@@@@@@@@@@@@@@@@@@@@@@@@@\\xc3@\\xf4@@@@@@@@@@@@@@@@@@@@@@@@@@@@@@@@@@@@@@@@@@@@@@@@@@@@@@@@@@@@@@@@@@@@@@@@@@@@@\\xc3@\\xf5@@@@@@@@@@@@@@@@@@@@@@@@@@@@@@@@@@@@@@@@@@@@@@@@@@@@@@@@@@@@@@@@@@@@@@@@@@@@@\\xc3@\\xf6@@@@@@@@@@@@@@@@@@@@@@@@@@@@@@@@@@@@@@@@@@@@@@@@@@@@@@@@@@@@@@@@@@@@@@@@@@@@@\\xc3@\\xf7@@@@@@@@@@@@@@@@@@@@@@@@@@@@@@@@@@@@@@@@@@@@@@@@@@@@@@@@@@@@@@@@@@@@@@@@@@@@@\\xc3@\\xf8@@@@@@@@@@@@@@@@@@@@@@@@@@@@@@@@@@@@@@@@@@@@@@@@@@@@@@@@@@@@@@@@@@@@@@@@@@@@@\\xc3@\\xf9@@@@@@@@@@@@@@@@@@@@@@@@@@@@@@@@@@@@@@@@@@@@@@@@@@@@@@@@@@@@@@@@@@@@@@@@@@@@@\\xc3\\xf1\\xf0@@@@@@@@@@@@@@@@@@@@@@@@@@@@@@@@@@@@@@@@@@@@@@@@@@@@@@@@@@@@@@@@@@@@@@@@@@@@@\\xc3\\xf1\\xf1@\\xe3\\xd9\\xc1\\xc3\\xc5@\\xc8\\xc5\\xc1\\xc4\\xc5\\xd9@\\xd7\\xd6\\xe2\\xc9\\xe3\\xc9\\xd6\\xd5z@@@@@@@@@@@@@@@@@@@@@@@@@@@@@@@@@@@@@@@@@@@@@@@@@@@@@@\\xc3\\xf1\\xf2@@@\\xc9\\xd5\\xd3\\xc9\\xd5\\xc5@\\xc2\\xe8\\xe3\\xc5\\xe2@\\xf1\\xf8\\xf9`\\xf1\\xf9\\xf3@@@@j@\\xd6\\xc6\\xc6\\xe2\\xc5\\xe3@\\xc2\\xe8\\xe3\\xc5\\xe2@\\xf0\\xf3\\xf7`\\xf0\\xf4\\xf1@@@@@@@@@@@@@@@@@@@@@@@@@@@@\\xc3\\xf1\\xf3@@@\\xc3\\xd9\\xd6\\xe2\\xe2\\xd3\\xc9\\xd5\\xc5@\\xc2\\xe8\\xe3\\xc5\\xe2@\\xf1\\xf9\\xf3`\\xf1\\xf9\\xf7@j@@@@@@@@@@@@@@@@@@@@@@@@@@@@@@@@@@@@@@@@@@@@@@@@@\\xc3\\xf1\\xf4@@@@@@@@@@@@@@@@@@@@@@@@@@@@@@@@@@@@@@@@@@@@@@@@@@@@@@@@@@@@@@@@@@@@@@@@@@@@@\\xc3\\xf1\\xf5@\\xc5\\xd5\\xc4@\\xc5\\xc2\\xc3\\xc4\\xc9\\xc3@\\xc8\\xc5\\xc1\\xc4\\xc5\\xd9@@@@@@@@@@@@@@@@@@@@@@@@@@@@@@@@@@@@@@@@@@@@@@@@@@@@@@@@@@@\\xc3\\xf1\\xf6@@@@@@@@@@@@@@@@@@@@@@@@@@@@@@@@@@@@@@@@@@@@@@@@@@@@@@@@@@@@@@@@@@@@@@@@@@@@@\\xc3\\xf1\\xf7@@@@@@@@@@@@@@@@@@@@@@@@@@@@@@@@@@@@@@@@@@@@@@@@@@@@@@@@@@@@@@@@@@@@@@@@@@@@@\\xc3\\xf1\\xf8@@@@@@@@@@@@@@@@@@@@@@@@@@@@@@@@@@@@@@@@@@@@@@@@@@@@@@@@@@@@@@@@@@@@@@@@@@@@@\\xc3\\xf1\\xf9@@@@@@@@@@@@@@@@@@@@@@@@@@@@@@@@@@@@@@@@@@@@@@@@@@@@@@@@@@@@@@@@@@@@@@@@@@@@@\\xc3\\xf2\\xf0@@@@@@@@@@@@@@@@@@@@@@@@@@@@@@@@@@@@@@@@@@@@@@@@@@@@@@@@@@@@@@@@@@@@@@@@@@@@@\\xc3\\xf2\\xf1@@@@@@@@@@@@@@@@@@@@@@@@@@@@@@@@@@@@@@@@@@@@@@@@@@@@@@@@@@@@@@@@@@@@@@@@@@@@@\\xc3\\xf2\\xf2@@@@@@@@@@@@@@@@@@@@@@@@@@@@@@@@@@@@@@@@@@@@@@@@@@@@@@@@@@@@@@@@@@@@@@@@@@@@@\\xc3\\xf2\\xf3@@@@@@@@@@@@@@@@@@@@@@@@@@@@@@@@@@@@@@@@@@@@@@@@@@@@@@@@@@@@@@@@@@@@@@@@@@@@@\\xc3\\xf2\\xf4@@@@@@@@@@@@@@@@@@@@@@@@@@@@@@@@@@@@@@@@@@@@@@@@@@@@@@@@@@@@@@@@@@@@@@@@@@@@@\\xc3\\xf2\\xf5@@@@@@@@@@@@@@@@@@@@@@@@@@@@@@@@@@@@@@@@@@@@@@@@@@@@@@@@@@@@@@@@@@@@@@@@@@@@@\\xc3\\xf2\\xf6@@@@@@@@@@@@@@@@@@@@@@@@@@@@@@@@@@@@@@@@@@@@@@@@@@@@@@@@@@@@@@@@@@@@@@@@@@@@@\\xc3\\xf2\\xf7@@@@@@@@@@@@@@@@@@@@@@@@@@@@@@@@@@@@@@@@@@@@@@@@@@@@@@@@@@@@@@@@@@@@@@@@@@@@@\\xc3\\xf2\\xf8@@@@@@@@@@@@@@@@@@@@@@@@@@@@@@@@@@@@@@@@@@@@@@@@@@@@@@@@@@@@@@@@@@@@@@@@@@@@@\\xc3\\xf2\\xf9@@@@@@@@@@@@@@@@@@@@@@@@@@@@@@@@@@@@@@@@@@@@@@@@@@@@@@@@@@@@@@@@@@@@@@@@@@@@@\\xc3\\xf3\\xf0@@@@@@@@@@@@@@@@@@@@@@@@@@@@@@@@@@@@@@@@@@@@@@@@@@@@@@@@@@@@@@@@@@@@@@@@@@@@@\\xc3\\xf3\\xf1@@@@@@@@@@@@@@@@@@@@@@@@@@@@@@@@@@@@@@@@@@@@@@@@@@@@@@@@@@@@@@@@@@@@@@@@@@@@@\\xc3\\xf3\\xf2@@@@@@@@@@@@@@@@@@@@@@@@@@@@@@@@@@@@@@@@@@@@@@@@@@@@@@@@@@@@@@@@@@@@@@@@@@@@@\\xc3\\xf3\\xf3@@@@@@@@@@@@@@@@@@@@@@@@@@@@@@@@@@@@@@@@@@@@@@@@@@@@@@@@@@@@@@@@@@@@@@@@@@@@@\\xc3\\xf3\\xf4@@@@@@@@@@@@@@@@@@@@@@@@@@@@@@@@@@@@@@@@@@@@@@@@@@@@@@@@@@@@@@@@@@@@@@@@@@@@@\\xc3\\xf3\\xf5@@@@@@@@@@@@@@@@@@@@@@@@@@@@@@@@@@@@@@@@@@@@@@@@@@@@@@@@@@@@@@@@@@@@@@@@@@@@@\\xc3\\xf3\\xf6@@@@@@@@@@@@@@@@@@@@@@@@@@@@@@@@@@@@@@@@@@@@@@@@@@@@@@@@@@@@@@@@@@@@@@@@@@@@@\\xc3\\xf3\\xf7@@@@@@@@@@@@@@@@@@@@@@@@@@@@@@@@@@@@@@@@@@@@@@@@@@@@@@@@@@@@@@@@@@@@@@@@@@@@@\\xc3\\xf3\\xf8@@@@@@@@@@@@@@@@@@@@@@@@@@@@@@@@@@@@@@@@@@@@@@@@@@@@@@@@@@@@@@@@@@@@@@@@@@@@@\\xc3\\xf3\\xf9@@@@@@@@@@@@@@@@@@@@@@@@@@@@@@@@@@@@@@@@@@@@@@@@@@@@@@@@@@@@@@@@@@@@@@@@@@@@@\\xc3\\xf4\\xf0@@@@@@@@@@@@@@@@@@@@@@@@@@@@@@@@@@@@@@@@@@@@@@@@@@@@@@@@@@@@@@@@@@@@@@@@@@@@ ')\n",
      "\n",
      "MetadataKey(category='SEGY', name='BinaryHeader', type=MetadataType.BLOB)\n",
      "bytearray(b'\\x00\\x00\\x00\\x00\\x00\\x00\\x00\\x00\\x00\\x00\\x00\\x00\\x00\\x06\\x00\\x06\\x0f\\xa0\\x0f\\xa0\\x00\\n\\x00\\n\\x00\\x01\\x00\\x00\\x00\\x02\\x00\\x00\\x00\\x00\\x00\\x00\\x00\\x00\\x00\\x00\\x00\\x00\\x00\\x00\\x00\\x00\\x00\\x00\\x00\\x00\\x00\\x00\\x00\\x00\\x00\\x00\\x00\\x00\\x00\\x00\\x00\\x00\\x00\\x00\\x00\\x00\\x00\\x00\\x00\\x00\\x00\\x00\\x00\\x00\\x00\\x00\\x00\\x00\\x00\\x00\\x00\\x00\\x00\\x00\\x00\\x00\\x00\\x00\\x00\\x00\\x00\\x00\\x00\\x00\\x00\\x00\\x00\\x00\\x00\\x00\\x00\\x00\\x00\\x00\\x00\\x00\\x00\\x00\\x00\\x00\\x00\\x00\\x00\\x00\\x00\\x00\\x00\\x00\\x00\\x00\\x00\\x00\\x00\\x00\\x00\\x00\\x00\\x00\\x00\\x00\\x00\\x00\\x00\\x00\\x00\\x00\\x00\\x00\\x00\\x00\\x00\\x00\\x00\\x00\\x00\\x00\\x00\\x00\\x00\\x00\\x00\\x00\\x00\\x00\\x00\\x00\\x00\\x00\\x00\\x00\\x00\\x00\\x00\\x00\\x00\\x00\\x00\\x00\\x00\\x00\\x00\\x00\\x00\\x00\\x00\\x00\\x00\\x00\\x00\\x00\\x00\\x00\\x00\\x00\\x00\\x00\\x00\\x00\\x00\\x00\\x00\\x00\\x00\\x00\\x00\\x00\\x00\\x00\\x00\\x00\\x00\\x00\\x00\\x00\\x00\\x00\\x00\\x00\\x00\\x00\\x00\\x00\\x00\\x00\\x00\\x00\\x00\\x00\\x00\\x00\\x00\\x00\\x00\\x00\\x00\\x00\\x00\\x00\\x00\\x00\\x00\\x00\\x00\\x00\\x00\\x00\\x00\\x00\\x00\\x00\\x00\\x00\\x00\\x00\\x00\\x00\\x00\\x00\\x00\\x00\\x00\\x00\\x00\\x00\\x00\\x00\\x00\\x00\\x00\\x00\\x00\\x00\\x00\\x00\\x00\\x00\\x00\\x00\\x00\\x00\\x00\\x00\\x00\\x00\\x00\\x00\\x00\\x00\\x00\\x00\\x00\\x00\\x00\\x00\\x00\\x00\\x00\\x00\\x00\\x00\\x00\\x00\\x00\\x00\\x00\\x00\\x00\\x00\\x00\\x00\\x00\\x00\\x00\\x00\\x00\\x00\\x00\\x00\\x00\\x00\\x00\\x00\\x00\\x00\\x00\\x00\\x00\\x00\\x00\\x00\\x00\\x00\\x00\\x00\\x00\\x00\\x00\\x00\\x00\\x00\\x00\\x00\\x00\\x00\\x00\\x00\\x00\\x00\\x00\\x00\\x00\\x00\\x00\\x00\\x00\\x00\\x00\\x00\\x00\\x00\\x00\\x00\\x00\\x00\\x00\\x00\\x00\\x00\\x00\\x00\\x00\\x00\\x00\\x00\\x00\\x00\\x00\\x00\\x00\\x00\\x00\\x00\\x00\\x00\\x00\\x00\\x00\\x00\\x00\\x00\\x00\\x00\\x00\\x00\\x00\\x00\\x00\\x00\\x00\\x00\\x00\\x00\\x00\\x00\\x00\\x00\\x00\\x00\\x00\\x00')\n",
      "\n",
      "MetadataKey(category='SEGY', name='Endianness', type=MetadataType.Int)\n",
      "0\n",
      "\n",
      "MetadataKey(category='SEGY', name='DataSampleFormatCode', type=MetadataType.Int)\n",
      "1\n",
      "\n",
      "MetadataKey(category='ImportInformation', name='DisplayName', type=MetadataType.String)\n",
      "10_samples.segy\n",
      "\n",
      "MetadataKey(category='ImportInformation', name='InputFileName', type=MetadataType.String)\n",
      "10_samples.segy\n",
      "\n",
      "MetadataKey(category='ImportInformation', name='InputFileSize', type=MetadataType.Double)\n",
      "5280.0\n",
      "\n",
      "MetadataKey(category='ImportInformation', name='InputTimeStamp', type=MetadataType.String)\n",
      "2023-05-16T15:30:47.000Z\n",
      "\n",
      "MetadataKey(category='ImportInformation', name='ImportTimeStamp', type=MetadataType.String)\n",
      "2023-05-16T15:30:47.783Z\n",
      "\n"
     ]
    }
   ],
   "source": [
    "for v in key_list:\n",
    "    print(v)\n",
    "    meta = layout.getMetadata(v)\n",
    "    print(meta)\n",
    "    print()"
   ]
  },
  {
   "cell_type": "code",
   "execution_count": 77,
   "id": "6d18183e-3ae2-46b8-8518-e286f8e87cd5",
   "metadata": {},
   "outputs": [
    {
     "ename": "TypeError",
     "evalue": "getMetadata(): incompatible function arguments. The following argument types are supported:\n    1. (self: openvds.core.MetadataReadAccess, key: openvds.core.MetadataKey) -> PyMetadataVariant\n    2. (self: openvds.core.MetadataReadAccess, category: str, name: str, type: openvds.core.MetadataType) -> PyMetadataVariant\n\nInvoked with: <openvds.core.VolumeDataLayout object at 0x1050a4cf0>, 'CrosslineSpacing'",
     "output_type": "error",
     "traceback": [
      "\u001b[0;31m---------------------------------------------------------------------------\u001b[0m",
      "\u001b[0;31mTypeError\u001b[0m                                 Traceback (most recent call last)",
      "Cell \u001b[0;32mIn[77], line 1\u001b[0m\n\u001b[0;32m----> 1\u001b[0m \u001b[43mlayout\u001b[49m\u001b[38;5;241;43m.\u001b[39;49m\u001b[43mgetMetadata\u001b[49m\u001b[43m(\u001b[49m\u001b[38;5;124;43m'\u001b[39;49m\u001b[38;5;124;43mCrosslineSpacing\u001b[39;49m\u001b[38;5;124;43m'\u001b[39;49m\u001b[43m)\u001b[49m\n",
      "\u001b[0;31mTypeError\u001b[0m: getMetadata(): incompatible function arguments. The following argument types are supported:\n    1. (self: openvds.core.MetadataReadAccess, key: openvds.core.MetadataKey) -> PyMetadataVariant\n    2. (self: openvds.core.MetadataReadAccess, category: str, name: str, type: openvds.core.MetadataType) -> PyMetadataVariant\n\nInvoked with: <openvds.core.VolumeDataLayout object at 0x1050a4cf0>, 'CrosslineSpacing'"
     ]
    }
   ],
   "source": [
    "layout.getMetadata('CrosslineSpacing')"
   ]
  },
  {
   "cell_type": "code",
   "execution_count": 78,
   "id": "43ef915b-6087-4c9f-9182-292e9190d55e",
   "metadata": {},
   "outputs": [
    {
     "data": {
      "text/plain": [
       "['Dimensionality_Max',\n",
       " 'VDSIJKGridDefinitionFromMetadata',\n",
       " '__class__',\n",
       " '__delattr__',\n",
       " '__dir__',\n",
       " '__doc__',\n",
       " '__eq__',\n",
       " '__format__',\n",
       " '__ge__',\n",
       " '__getattribute__',\n",
       " '__getstate__',\n",
       " '__gt__',\n",
       " '__hash__',\n",
       " '__init__',\n",
       " '__init_subclass__',\n",
       " '__le__',\n",
       " '__lt__',\n",
       " '__module__',\n",
       " '__ne__',\n",
       " '__new__',\n",
       " '__reduce__',\n",
       " '__reduce_ex__',\n",
       " '__repr__',\n",
       " '__setattr__',\n",
       " '__sizeof__',\n",
       " '__str__',\n",
       " '__subclasshook__',\n",
       " 'channelCount',\n",
       " 'contentsHash',\n",
       " 'dimensionality',\n",
       " 'getAxisDescriptor',\n",
       " 'getChannelComponents',\n",
       " 'getChannelCount',\n",
       " 'getChannelDescriptor',\n",
       " 'getChannelFormat',\n",
       " 'getChannelIndex',\n",
       " 'getChannelIntegerOffset',\n",
       " 'getChannelIntegerScale',\n",
       " 'getChannelMapping',\n",
       " 'getChannelName',\n",
       " 'getChannelNoValue',\n",
       " 'getChannelUnit',\n",
       " 'getChannelValueRangeMax',\n",
       " 'getChannelValueRangeMin',\n",
       " 'getContentsHash',\n",
       " 'getDimensionMax',\n",
       " 'getDimensionMin',\n",
       " 'getDimensionName',\n",
       " 'getDimensionNumSamples',\n",
       " 'getDimensionUnit',\n",
       " 'getDimensionality',\n",
       " 'getLayoutDescriptor',\n",
       " 'getLayoutHash',\n",
       " 'getMetadata',\n",
       " 'getMetadataBLOB',\n",
       " 'getMetadataDouble',\n",
       " 'getMetadataDoubleVector2',\n",
       " 'getMetadataDoubleVector3',\n",
       " 'getMetadataDoubleVector4',\n",
       " 'getMetadataFloat',\n",
       " 'getMetadataFloatVector2',\n",
       " 'getMetadataFloatVector3',\n",
       " 'getMetadataFloatVector4',\n",
       " 'getMetadataInt',\n",
       " 'getMetadataIntVector2',\n",
       " 'getMetadataIntVector3',\n",
       " 'getMetadataIntVector4',\n",
       " 'getMetadataKeys',\n",
       " 'getMetadataString',\n",
       " 'getVDSIJKGridDefinitionFromMetadata',\n",
       " 'isChannelAllowingLossyCompression',\n",
       " 'isChannelAvailable',\n",
       " 'isChannelDiscrete',\n",
       " 'isChannelRenderable',\n",
       " 'isChannelUseNoValue',\n",
       " 'isChannelUseZipForLosslessCompression',\n",
       " 'isMetadataBLOBAvailable',\n",
       " 'isMetadataDoubleAvailable',\n",
       " 'isMetadataDoubleVector2Available',\n",
       " 'isMetadataDoubleVector3Available',\n",
       " 'isMetadataDoubleVector4Available',\n",
       " 'isMetadataFloatAvailable',\n",
       " 'isMetadataFloatVector2Available',\n",
       " 'isMetadataFloatVector3Available',\n",
       " 'isMetadataFloatVector4Available',\n",
       " 'isMetadataIntAvailable',\n",
       " 'isMetadataIntVector2Available',\n",
       " 'isMetadataIntVector3Available',\n",
       " 'isMetadataIntVector4Available',\n",
       " 'isMetadataStringAvailable',\n",
       " 'layoutDescriptor',\n",
       " 'layoutHash',\n",
       " 'metadataKeys',\n",
       " 'numSamples']"
      ]
     },
     "execution_count": 78,
     "metadata": {},
     "output_type": "execute_result"
    }
   ],
   "source": [
    "dir(layout)"
   ]
  },
  {
   "cell_type": "code",
   "execution_count": null,
   "id": "26b7939d-c867-4ed7-9a26-5ffa872cd1cd",
   "metadata": {},
   "outputs": [],
   "source": []
  }
 ],
 "metadata": {
  "kernelspec": {
   "display_name": "Python 3 (ipykernel)",
   "language": "python",
   "name": "python3"
  },
  "language_info": {
   "codemirror_mode": {
    "name": "ipython",
    "version": 3
   },
   "file_extension": ".py",
   "mimetype": "text/x-python",
   "name": "python",
   "nbconvert_exporter": "python",
   "pygments_lexer": "ipython3",
   "version": "3.11.7"
  }
 },
 "nbformat": 4,
 "nbformat_minor": 5
}
